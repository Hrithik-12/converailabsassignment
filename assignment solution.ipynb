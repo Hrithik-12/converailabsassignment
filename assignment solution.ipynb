{
  "nbformat": 4,
  "nbformat_minor": 0,
  "metadata": {
    "colab": {
      "provenance": [],
      "authorship_tag": "ABX9TyOCqEYwKNQGdhzTFwqAb7qD",
      "include_colab_link": true
    },
    "kernelspec": {
      "name": "python3",
      "display_name": "Python 3"
    },
    "language_info": {
      "name": "python"
    }
  },
  "cells": [
    {
      "cell_type": "markdown",
      "metadata": {
        "id": "view-in-github",
        "colab_type": "text"
      },
      "source": [
        "<a href=\"https://colab.research.google.com/github/Hrithik-12/converailabsassignment/blob/main/assignment%20solution.ipynb\" target=\"_parent\"><img src=\"https://colab.research.google.com/assets/colab-badge.svg\" alt=\"Open In Colab\"/></a>"
      ]
    },
    {
      "cell_type": "code",
      "source": [
        "# Install dependencies\n",
        "!pip install -q yt-dlp openai-whisper ffmpeg-python\n",
        "\n",
        "# Download the YouTube audio and convert to wav (16kHz mono)\n",
        "import subprocess, glob\n",
        "from yt_dlp import YoutubeDL\n",
        "\n",
        "YOUTUBE_URL = \"https://www.youtube.com/watch?v=4ostqJD3Psc\"\n",
        "OUTPUT_WAV = \"call.wav\"\n",
        "\n",
        "# Download audio\n",
        "ydl_opts = {'format': 'bestaudio/best', 'outtmpl': 'call_audio.%(ext)s'}\n",
        "with YoutubeDL(ydl_opts) as ydl:\n",
        "    ydl.download([YOUTUBE_URL])\n",
        "\n",
        "src = glob.glob(\"call_audio.*\")[0]\n",
        "# Convert to wav (16kHz mono)\n",
        "subprocess.run([\"ffmpeg\", \"-y\", \"-i\", src, \"-ac\", \"1\", \"-ar\", \"16000\", OUTPUT_WAV])\n",
        "\n",
        "print(\"Saved as:\", OUTPUT_WAV)\n",
        "\n",
        "# Transcribe with Whisper (tiny model for speed)\n",
        "import whisper\n",
        "model = whisper.load_model(\"tiny\")\n",
        "result = model.transcribe(OUTPUT_WAV, language=\"en\")\n",
        "\n",
        "print(\"\\n--- TRANSCRIPT ---\\n\")\n",
        "print(result[\"text\"])\n",
        "with open(\"transcript.txt\", \"w\") as f:\n",
        "    f.write(result[\"text\"])\n",
        "print(\"Transcript saved as transcript.txt\")\n"
      ],
      "metadata": {
        "colab": {
          "base_uri": "https://localhost:8080/"
        },
        "id": "8r-8YnGD0Yts",
        "outputId": "9b2d8816-aaf9-4591-cae2-1fbe3654028b"
      },
      "execution_count": null,
      "outputs": [
        {
          "output_type": "stream",
          "name": "stdout",
          "text": [
            "[youtube] Extracting URL: https://www.youtube.com/watch?v=4ostqJD3Psc\n",
            "[youtube] 4ostqJD3Psc: Downloading webpage\n",
            "[youtube] 4ostqJD3Psc: Downloading tv simply player API JSON\n",
            "[youtube] 4ostqJD3Psc: Downloading tv client config\n",
            "[youtube] 4ostqJD3Psc: Downloading tv player API JSON\n",
            "[info] 4ostqJD3Psc: Downloading 1 format(s): 251\n",
            "[download] call_audio.webm has already been downloaded\n",
            "[download] 100% of    1.99MiB\n",
            "Saved as: call.wav\n"
          ]
        },
        {
          "output_type": "stream",
          "name": "stderr",
          "text": [
            "/usr/local/lib/python3.12/dist-packages/whisper/transcribe.py:132: UserWarning: FP16 is not supported on CPU; using FP32 instead\n",
            "  warnings.warn(\"FP16 is not supported on CPU; using FP32 instead\")\n"
          ]
        },
        {
          "output_type": "stream",
          "name": "stdout",
          "text": [
            "\n",
            "--- TRANSCRIPT ---\n",
            "\n",
            " Thank you for calling me son. My name is Lauren. Can I have your name? Yes, my name is John Smith. Thank you, John. How can I help you? I was just calling about to see how much it would cost to update the map in my car. I'd be happy to help you with that today. Did you receive a mail or from us? I did. Do you need the customer number? Yes, please. Okay. It's 15243. Thank you and the year making model of your vehicle. Yeah, I have a 2009 Nissan Altaman. So nice car. Yeah, thank you. We really enjoy it. Okay. I think I found your profile here. Can I have you verify your address and phone number? Please. Yes. It's 1265 North Research Way. That's an RM UTA-84097. And my phone number is A01-431-1000. Thanks, John. I located your information. The newest version we have available for your vehicle is version 7.7, which was released in March of 2012. The price of the new map is $99. Push it, being attacked. Let me go ahead and set up this order for you. Can we wait just a second? I'm not really sure if I can afford it right now. All right. Well, here are a few reasons to consider purchasing today. It looks as though you haven't updated your vehicle for three years. So that would be the equivalent of getting three years worth of updates for the price of one. Okay. In addition, special offers like the current promotion don't come around too often. I would definitely recommend taking advantage of the extra $50 off before it expires. Yeah, that does sound pretty good. If I set this order up for you now, it'll ship out today and for $50 less. Do you have your credit card handy and I can place this order for you now? Yeah. Let's go ahead and use your visa.\n",
            "Transcript saved as transcript.txt\n"
          ]
        }
      ]
    },
    {
      "cell_type": "code",
      "source": [],
      "metadata": {
        "id": "w9YCe2F_KBVL"
      },
      "execution_count": null,
      "outputs": []
    },
    {
      "cell_type": "code",
      "source": [
        "# transcript_text = \"\"\"\n",
        "# Thank you for calling me son. My name is Lauren. Can I have your name?\n",
        "# Yes, my name is John Smith. Thank you, John. How can I help you?\n",
        "# I was just calling about to see how much it would cost to update the map in my car.\n",
        "# I'd be happy to help you with that today. Did you receive a mail or from us?\n",
        "# I did. Do you need the customer number? Yes, please. Okay. It's 15243.\n",
        "# Thank you and the year making model of your vehicle. Yeah, I have a 2009 Nissan Altaman.\n",
        "# So nice car. Yeah, thank you. We really enjoy it. Okay. I think I found your profile here.\n",
        "# Can I have you verify your address and phone number? Please.\n",
        "# Yes. It's 1265 North Research Way. That's an RM UTA-84097.\n",
        "# And my phone number is A01-431-1000. Thanks, John. I located your information.\n",
        "# The newest version we have available for your vehicle is version 7.7,\n",
        "# which was released in March of 2012. The price of the new map is $99.\n",
        "# Push it, being attacked. Let me go ahead and set up this order for you.\n",
        "# Can we wait just a second? I'm not really sure if I can afford it right now.\n",
        "# All right. Well, here are a few reasons to consider purchasing today.\n",
        "# It looks as though you haven't updated your vehicle for three years.\n",
        "# So that would be the equivalent of getting three years worth of updates for the price of one.\n",
        "# Okay. In addition, special offers like the current promotion don't come around too often.\n",
        "# I would definitely recommend taking advantage of the extra $50 off before it expires.\n",
        "# Yeah, that does sound pretty good. If I set this order up for you now,\n",
        "# it'll ship out today and for $50 less.\n",
        "# Do you have your credit card handy and I can place this order for you now?\n",
        "# Yeah. Let's go ahead and use your visa.\n",
        "# \"\"\"\n",
        "\n",
        "transcript_text=\"\"\"Can you help me with this assignment\n",
        "I’m stuck on the regex part!\n",
        "Do you know how to split text into sentences???\n",
        "Yes, I can show you.\n",
        "Cool thanks.\n",
        "\"\"\"\n",
        "\n",
        "# ===================================================\n",
        "# APPROACH 1: Regex-based Question Detection (Simple)\n",
        "# ===================================================\n",
        "\n",
        "import re\n",
        "\n",
        "# Define patterns\n",
        "QUESTION_START_RE = re.compile(\n",
        "    r'^(who|what|when|where|why|how|is|are|do|does|did|can|could|would|should|will|may|might)\\b',\n",
        "    re.I\n",
        ")\n",
        "QUESTION_ANYWHERE_RE = re.compile(\n",
        "    r'\\b(do you|did you|do we|can you|could you|would you|are you|is there|have you|may i|shall we|should we|do they|did they|could I|can I)\\b',\n",
        "    re.I\n",
        ")\n",
        "\n",
        "# Split text into sentences (basic split by punctuation)\n",
        "regex_sentences = re.split(r'(?<=[.?!])\\s+', transcript_text)\n",
        "\n",
        "# Detect questions\n",
        "regex_questions = []\n",
        "for s in regex_sentences:\n",
        "    s_clean = s.strip()\n",
        "    if not s_clean:\n",
        "        continue\n",
        "    if s_clean.endswith(\"?\") or QUESTION_START_RE.match(s_clean) or QUESTION_ANYWHERE_RE.search(s_clean):\n",
        "        regex_questions.append(s_clean)\n",
        "\n",
        "print(\"=== Approach 1: Regex-based ===\")\n",
        "print(f\"Total sentences: {len(regex_sentences)}\")\n",
        "print(f\"Questions detected: {len(regex_questions)}\\n\")\n",
        "for i, q in enumerate(regex_questions, 1):\n",
        "    print(f\"{i}. {q}\")"
      ],
      "metadata": {
        "colab": {
          "base_uri": "https://localhost:8080/"
        },
        "id": "Gk0vKWnm4NBf",
        "outputId": "8e2cddd4-4677-4a4b-e879-f32dc3c3458e"
      },
      "execution_count": null,
      "outputs": [
        {
          "output_type": "stream",
          "name": "stdout",
          "text": [
            "=== Approach 1: Regex-based ===\n",
            "Total sentences: 5\n",
            "Questions detected: 2\n",
            "\n",
            "1. Can you help me with this assignment  \n",
            "I’m stuck on the regex part!\n",
            "2. Do you know how to split text into sentences???\n"
          ]
        }
      ]
    },
    {
      "cell_type": "code",
      "source": [
        "from collections import defaultdict\n",
        "\n",
        "def calculate_talk_time_ratio(transcript_text):\n",
        "    \"\"\"\n",
        "    Calculates talk-time ratio (%) for a transcript separated by '#' for turns.\n",
        "    Assumes two speakers alternating.\n",
        "    \"\"\"\n",
        "    # Split by '#' and clean whitespace\n",
        "    turns = [turn.strip() for turn in transcript_text.split('#') if turn.strip()]\n",
        "\n",
        "    talk_time = defaultdict(int)\n",
        "    speakers = [\"Speaker 1\", \"Speaker 2\"]\n",
        "\n",
        "    # Assign alternating speakers\n",
        "    for i, turn in enumerate(turns):\n",
        "        speaker = speakers[i % 2]\n",
        "        talk_time[speaker] += len(turn.split())\n",
        "\n",
        "    total_words = sum(talk_time.values())\n",
        "    talk_time_ratio = {speaker: (words / total_words) * 100 for speaker, words in talk_time.items()}\n",
        "\n",
        "    return talk_time_ratio\n",
        "\n",
        "\n",
        "# === Example Usage ===\n",
        "transcript = \"\"\"\n",
        "Thank you for calling me son. My name is Lauren. Can I have your name?\n",
        "# Yes, my name is John Smith. Thank you, John. How can I help you?\n",
        "# I was just calling about to see how much it would cost to update the map in my car.\n",
        "# I'd be happy to help you with that today. Did you receive a mail or from us?\n",
        "# I did. Do you need the customer number? Yes, please. Okay. It's 15243.\n",
        "# Thank you and the year making model of your vehicle. Yeah, I have a 2009 Nissan Altaman.\n",
        "# So nice car. Yeah, thank you. We really enjoy it. Okay. I think I found your profile here.\n",
        "# Can I have you verify your address and phone number? Please.\n",
        "# Yes. It's 1265 North Research Way. That's an RM UTA-84097.\n",
        "# And my phone number is A01-431-1000. Thanks, John. I located your information.\n",
        "# The newest version we have available for your vehicle is version 7.7,\n",
        "# which was released in March of 2012. The price of the new map is $99.\n",
        "# Push it, being attacked. Let me go ahead and set up this order for you.\n",
        "# Can we wait just a second? I'm not really sure if I can afford it right now.\n",
        "# All right. Well, here are a few reasons to consider purchasing today.\n",
        "# It looks as though you haven't updated your vehicle for three years.\n",
        "# So that would be the equivalent of getting three years worth of updates for the price of one.\n",
        "# Okay. In addition, special offers like the current promotion don't come around too often.\n",
        "# I would definitely recommend taking advantage of the extra $50 off before it expires.\n",
        "# Yeah, that does sound pretty good. If I set this order up for you now,\n",
        "# it'll ship out today and for $50 less.\n",
        "# Do you have your credit card handy and I can place this order for you now?\n",
        "# Yeah. Let's go ahead and use your visa.\n",
        "\"\"\"\n",
        "\n",
        "ratio = calculate_talk_time_ratio(transcript)\n",
        "for speaker, percent in ratio.items():\n",
        "    print(f\"{speaker}: {percent:.2f}%\")\n"
      ],
      "metadata": {
        "colab": {
          "base_uri": "https://localhost:8080/"
        },
        "id": "fircsCHb99CR",
        "outputId": "b8c8febd-7db4-4747-8d57-8615736cf3d4"
      },
      "execution_count": null,
      "outputs": [
        {
          "output_type": "stream",
          "name": "stdout",
          "text": [
            "Speaker 1: 50.31%\n",
            "Speaker 2: 49.69%\n"
          ]
        }
      ]
    },
    {
      "cell_type": "code",
      "source": [
        "from collections import defaultdict\n",
        "\n",
        "# Example transcript (replace with your actual transcript_text)\n",
        "transcript_text = \"\"\"\n",
        "Thank you for calling me son. My name is Lauren. Can I have your name?\n",
        "# Yes, my name is John Smith. Thank you, John. How can I help you?\n",
        "# I was just calling about to see how much it would cost to update the map in my car.\n",
        "# I'd be happy to help you with that today. Did you receive a mail or from us?\n",
        "# I did. Do you need the customer number? Yes, please. Okay. It's 15243.\n",
        "# Thank you and the year making model of your vehicle. Yeah, I have a 2009 Nissan Altaman.\n",
        "# So nice car. Yeah, thank you. We really enjoy it. Okay. I think I found your profile here.\n",
        "# Can I have you verify your address and phone number? Please.\n",
        "# Yes. It's 1265 North Research Way. That's an RM UTA-84097.\n",
        "# And my phone number is A01-431-1000. Thanks, John. I located your information.\n",
        "# The newest version we have available for your vehicle is version 7.7,\n",
        "# which was released in March of 2012. The price of the new map is $99.\n",
        "# Push it, being attacked. Let me go ahead and set up this order for you.\n",
        "# Can we wait just a second? I'm not really sure if I can afford it right now.\n",
        "# All right. Well, here are a few reasons to consider purchasing today.\n",
        "# It looks as though you haven't updated your vehicle for three years.\n",
        "# So that would be the equivalent of getting three years worth of updates for the price of one.\n",
        "# Okay. In addition, special offers like the current promotion don't come around too often.\n",
        "# I would definitely recommend taking advantage of the extra $50 off before it expires.\n",
        "# Yeah, that does sound pretty good. If I set this order up for you now,\n",
        "# it'll ship out today and for $50 less.\n",
        "# Do you have your credit card handy and I can place this order for you now?\n",
        "# Yeah. Let's go ahead and use your visa.\n",
        "\"\"\"\n",
        "\n",
        "# --- Split transcript into turns ---\n",
        "turns = [turn.strip() for turn in transcript_text.split('#') if turn.strip()]\n",
        "\n",
        "# --- Initialize speakers ---\n",
        "speakers = [\"Speaker 1\", \"Speaker 2\"]  # alternating\n",
        "talk_time = defaultdict(int)\n",
        "longest_monologue = defaultdict(int)\n",
        "questions_count = defaultdict(int)\n",
        "\n",
        "# --- Process each turn ---\n",
        "for i, turn in enumerate(turns):\n",
        "    speaker = speakers[i % 2]\n",
        "    words = len(turn.split())\n",
        "\n",
        "    # Total words per speaker\n",
        "    talk_time[speaker] += words\n",
        "\n",
        "    # Longest monologue (by word count)\n",
        "    longest_monologue[speaker] = max(longest_monologue.get(speaker, 0), words)\n",
        "\n",
        "    # Count questions\n",
        "    questions_count[speaker] += turn.count('?')\n",
        "\n",
        "# --- Calculate talk-time percentage ---\n",
        "total_words = sum(talk_time.values())\n",
        "talk_time_ratio = {s: (w / total_words) * 100 for s, w in talk_time.items()}\n",
        "\n",
        "# --- Output results ---\n",
        "print(\"\\n--- TALK-TIME RATIO (%) ---\")\n",
        "for speaker, percent in talk_time_ratio.items():\n",
        "    print(f\"{speaker}: {percent:.2f}%\")\n",
        "\n",
        "print(\"\\n--- LONGEST MONOLOGUE (words) ---\")\n",
        "for speaker, words in longest_monologue.items():\n",
        "    print(f\"{speaker}: {words}\")\n",
        "\n",
        "print(\"\\n--- NUMBER OF QUESTIONS ---\")\n",
        "for speaker, q_count in questions_count.items():\n",
        "    print(f\"{speaker}: {q_count}\")\n"
      ],
      "metadata": {
        "colab": {
          "base_uri": "https://localhost:8080/"
        },
        "id": "XJhwPJjhAhum",
        "outputId": "cecabd1c-5a5c-4c13-d4c2-152e5b3ecc8c"
      },
      "execution_count": null,
      "outputs": [
        {
          "output_type": "stream",
          "name": "stdout",
          "text": [
            "\n",
            "--- TALK-TIME RATIO (%) ---\n",
            "Speaker 1: 50.31%\n",
            "Speaker 2: 49.69%\n",
            "\n",
            "--- LONGEST MONOLOGUE (words) ---\n",
            "Speaker 1: 19\n",
            "Speaker 2: 17\n",
            "\n",
            "--- NUMBER OF QUESTIONS ---\n",
            "Speaker 1: 2\n",
            "Speaker 2: 5\n"
          ]
        }
      ]
    },
    {
      "cell_type": "code",
      "source": [
        "import google.generativeai as genai\n",
        "from google.colab import userdata\n",
        "\n",
        "# Get API key securely from Colab Secrets\n",
        "try:\n",
        "    GOOGLE_API_KEY = userdata.get('GOOGLE_API_KEY')\n",
        "    genai.configure(api_key=GOOGLE_API_KEY)\n",
        "except Exception as e:\n",
        "    print(f\"Error: Could not retrieve API key. Make sure to set a secret named 'GOOGLE_API_KEY' in Colab.\")\n",
        "\n",
        "# Initialize the Gemini model\n",
        "model = genai.GenerativeModel('gemini-2.5-flash')\n",
        "\n",
        "# The full transcript text\n",
        "# transcript_text = \"\"\"\n",
        "# Thank you for calling me son. My name is Lauren. Can I have your name? Yes, my name is John Smith. Thank you, John. How can I help you? I was just calling about to see how much it would cost to update the map in my car. I'd be happy to help you with that today. Did you receive a mail or from us? I did. Do you need the customer number? Yes, please. Okay. It's 15243. Thank you and the year making model of your vehicle. Yeah, I have a 2009 Nissan Altaman. So nice car. Yeah, thank you. We really enjoy it. Okay. I think I found your profile here. Can I have you verify your address and phone number? Please. Yes. It's 1265 North Research Way. That's an RM UTA-84097. And my phone number is A01-431-1000. Thanks, John. I located your information. The newest version we have available for your vehicle is version 7.7, which was released in March of 2012. The price of the new map is $99. Push it, being attacked. Let me go ahead and set up this order for you. Can we wait just a second? I'm not really sure if I can afford it right now. All right. Well, here are a few reasons to consider purchasing today. It looks as though you haven't updated your vehicle for three years. So that would be the equivalent of getting three years worth of updates for the price of one. Okay. In addition, special offers like the current promotion don't come around too often. I would definitely recommend taking advantage of the extra $50 off before it expires. Yeah, that does sound pretty good. If I set this order up for you now, it'll ship out today and for $50 less. Do you have your credit card handy and I can place this order for you now? Yeah. Let's go ahead and use your visa.\n",
        "# \"\"\"\n",
        "\n",
        "transcript_text = \"\"\"\n",
        "Thank you for calling me son. My name is Lauren. Can I have your name?\n",
        "# Yes, my name is John Smith. Thank you, John. How can I help you?\n",
        "# I was just calling about to see how much it would cost to update the map in my car.\n",
        "# I'd be happy to help you with that today. Did you receive a mail or from us?\n",
        "# I did. Do you need the customer number? Yes, please. Okay. It's 15243.\n",
        "# Thank you and the year making model of your vehicle. Yeah, I have a 2009 Nissan Altaman.\n",
        "# So nice car. Yeah, thank you. We really enjoy it. Okay. I think I found your profile here.\n",
        "# Can I have you verify your address and phone number? Please.\n",
        "# Yes. It's 1265 North Research Way. That's an RM UTA-84097.\n",
        "# And my phone number is A01-431-1000. Thanks, John. I located your information.\n",
        "# The newest version we have available for your vehicle is version 7.7,\n",
        "# which was released in March of 2012. The price of the new map is $99.\n",
        "# Push it, being attacked. Let me go ahead and set up this order for you.\n",
        "# Can we wait just a second? I'm not really sure if I can afford it right now.\n",
        "# All right. Well, here are a few reasons to consider purchasing today.\n",
        "# It looks as though you haven't updated your vehicle for three years.\n",
        "# So that would be the equivalent of getting three years worth of updates for the price of one.\n",
        "# Okay. In addition, special offers like the current promotion don't come around too often.\n",
        "# I would definitely recommend taking advantage of the extra $50 off before it expires.\n",
        "# Yeah, that does sound pretty good. If I set this order up for you now,\n",
        "# it'll ship out today and for $50 less.\n",
        "# Do you have your credit card handy and I can place this order for you now?\n",
        "# Yeah. Let's go ahead and use your visa.\n",
        "\"\"\"\n",
        "\n",
        "# The prompt with specific instructions for Gemini\n",
        "prompt = f\"\"\"\n",
        "Analyze the following call transcript. Your analysis should provide two distinct sections:\n",
        "\n",
        "1.  **Sentiment Summary**: Provide an overall sentiment score for the call on a scale of 1-10 (1 being very negative, 10 being very positive). provide that either is positive or negative .\n",
        "\n",
        "2.  **Actionable Insights**: Based on the conversation, provide only 1 actionable recommendations for the representative to improve their performance on future calls. The insights should be practical and tied directly to the conversation's content.\n",
        "\n",
        "3. also give a single answer one word to return which person  is sales agent and customer\n",
        "\n",
        "Here is the transcript to analyze:\n",
        "---\n",
        "{transcript_text}\n",
        "---\n",
        "\"\"\"\n",
        "\n",
        "# Send the prompt to the model and print the result\n",
        "response = model.generate_content(prompt)\n",
        "print(response.text)"
      ],
      "metadata": {
        "colab": {
          "base_uri": "https://localhost:8080/",
          "height": 305
        },
        "id": "30XiusOuBcvB",
        "outputId": "2727a16d-8d74-4d48-b844-fb54fc5c411a"
      },
      "execution_count": null,
      "outputs": [
        {
          "output_type": "stream",
          "name": "stdout",
          "text": [
            "Here's an analysis of the call transcript:\n",
            "\n",
            "### 1. Sentiment Summary\n",
            "\n",
            "*   **Overall Sentiment Score**: 8/10\n",
            "*   **Sentiment**: Positive\n",
            "\n",
            "### 2. Actionable Insights\n",
            "\n",
            "1.  **Proactively Present Value with Price**: Instead of waiting for the customer's hesitation, the representative should proactively integrate key benefits and promotional offers when first stating the price. For example, \"The price of the new map is $99, but with our current promotion, you'll get $50 off today, bringing you up-to-date with three years of road changes.\" This approach can preempt objections and immediately establish value.\n",
            "\n",
            "### 3. Sales Agent and Customer\n",
            "\n",
            "*   **Sales Agent**: Lauren\n",
            "*   **Customer**: John\n"
          ]
        }
      ]
    }
  ]
}